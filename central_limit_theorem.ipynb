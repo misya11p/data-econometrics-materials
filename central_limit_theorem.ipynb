{
 "cells": [
  {
   "cell_type": "markdown",
   "metadata": {},
   "source": []
  },
  {
   "cell_type": "markdown",
   "metadata": {},
   "source": [
    "## 中心極限定理\n",
    "\n",
    "平均$\\mu$、分散$\\sigma^2$のあらゆる確率分布から抽出したサンプルサイズ$N$の標本について、$N$が大きくなるにつれ、その標本平均$\\bar X$の分布は、平均$\\mu$、分散$\\sigma^2 / N$の正規分布に近づく。\n",
    "\n",
    "$$\n",
    "\\bar X \\sim N(\\mu, \\sigma^2 / N)\n",
    "$$\n",
    "\n",
    "和と見ても同じ。いろんなものを足した値は正規分布に近づく、ということが言える。\n",
    "\n",
    "正規分布が世界のいろんなところで観測できるのはこの中心極限定理から納得できる。ある要素は他の様々な要素の結果として解釈できるように、ある確率変数は他の確率変数の和として解釈できる。"
   ]
  },
  {
   "cell_type": "markdown",
   "metadata": {},
   "source": [
    "日常に現れる正規分布の例として身長が挙げられる。\n",
    "\n",
    "<img src=\"https://statresearch.jp/BMI/images/distribution_17.svg\" width=\"600\">\n",
    "\n",
    "引用: [統計情報リサーチ](https://statresearch.jp/BMI/), 男女の身長の分布\n",
    "\n",
    "身長は遺伝的要素や栄養状態、環境要因など様々な要素が影響する。それらの要素の和として身長が決まると考えると、中心極限定理により、身長の分布が正規分布に従うことが納得できる。"
   ]
  }
 ],
 "metadata": {
  "language_info": {
   "name": "python"
  }
 },
 "nbformat": 4,
 "nbformat_minor": 2
}
