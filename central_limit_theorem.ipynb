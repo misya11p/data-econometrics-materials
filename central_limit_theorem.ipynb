{
 "cells": [
  {
   "cell_type": "markdown",
   "metadata": {},
   "source": [
    "# 中心極限定理\n",
    "\n",
    "データと計量経済学 4週目 別資料\n",
    "\n",
    "小宮和真"
   ]
  },
  {
   "cell_type": "markdown",
   "metadata": {},
   "source": [
    "\n",
    "---\n",
    "\n",
    "## 中心極限定理\n",
    "\n",
    "平均$\\mu$、分散$\\sigma^2$のあらゆる確率分布から抽出したサンプルサイズ$N$の標本について、$N$が大きくなるにつれ、その標本平均$\\bar X$の分布は、平均$\\mu$、分散$\\sigma^2 / N$の正規分布に近づく。\n",
    "\n",
    "$$\n",
    "\\bar X \\sim N(\\mu, \\sigma^2 / N)\n",
    "$$\n",
    "\n",
    "和と見ても同じ。いろんなものを足した値は正規分布に近づく、ということが言える。\n",
    "\n",
    "分かりやすい動画: [中心極限定理とは何か？ 【正規分布が現れるとき・確率】](https://www.youtube.com/watch?v=XXsTu66VB-E)"
   ]
  },
  {
   "cell_type": "markdown",
   "metadata": {},
   "source": [
    "正規分布が世界のいろんなところで観測できるのはこの中心極限定理から納得できる。ある要素は他の様々な要素の結果として解釈できるように、ある確率変数は他の確率変数の和として解釈できる。\n",
    "\n",
    "日常に現れる正規分布の例として身長が挙げられる。\n",
    "\n",
    "<img src=\"https://statresearch.jp/BMI/images/distribution_17.svg\" width=\"600\">\n",
    "\n",
    "引用: [統計情報リサーチ](https://statresearch.jp/BMI/), 男女の身長の分布\n",
    "\n",
    "身長は遺伝的要素や栄養状態、環境要因など様々な要素が影響する。それらの要素の和として身長が決まると考えると、中心極限定理により、身長の分布が正規分布に従うことが納得できる。"
   ]
  },
  {
   "cell_type": "markdown",
   "metadata": {},
   "source": [
    "\n",
    "---\n",
    "\n",
    "## \n",
    "\n"
   ]
  },
  {
   "cell_type": "code",
   "execution_count": 2,
   "metadata": {},
   "outputs": [],
   "source": [
    "import matplotlib.pyplot as plt\n",
    "import numpy as np"
   ]
  },
  {
   "cell_type": "code",
   "execution_count": null,
   "metadata": {},
   "outputs": [],
   "source": [
    "def dice_rolls(m):\n",
    "    rolls = np.random.randint(1, 7, m)\n",
    "    return rolls, rolls.sum()"
   ]
  },
  {
   "cell_type": "code",
   "execution_count": 4,
   "metadata": {},
   "outputs": [
    {
     "data": {
      "text/plain": [
       "(array([2, 3, 4, 3, 1]), 13)"
      ]
     },
     "execution_count": 4,
     "metadata": {},
     "output_type": "execute_result"
    }
   ],
   "source": [
    "dice_rolls(5)"
   ]
  },
  {
   "cell_type": "code",
   "execution_count": 5,
   "metadata": {},
   "outputs": [],
   "source": [
    "def sums(m, n):\n",
    "    sums = []\n",
    "    for _ in range(n):\n",
    "        _, sum = dice_rolls(m)\n",
    "        sums.append(sum)\n",
    "    return sums"
   ]
  },
  {
   "cell_type": "code",
   "execution_count": 16,
   "metadata": {},
   "outputs": [
    {
     "data": {
      "image/png": "[encoded data removed]",
      "text/plain": [
       "<Figure size 640x480 with 1 Axes>"
      ]
     },
     "metadata": {},
     "output_type": "display_data"
    }
   ],
   "source": [
    "m, n = 50, 10000\n",
    "dist = sums(m, n)\n",
    "plt.hist(dist, bins=50);"
   ]
  }
 ],
 "metadata": {
  "kernelspec": {
   "display_name": "all",
   "language": "python",
   "name": "python3"
  },
  "language_info": {
   "codemirror_mode": {
    "name": "ipython",
    "version": 3
   },
   "file_extension": ".py",
   "mimetype": "text/x-python",
   "name": "python",
   "nbconvert_exporter": "python",
   "pygments_lexer": "ipython3",
   "version": "3.11.4"
  }
 },
 "nbformat": 4,
 "nbformat_minor": 2
}
